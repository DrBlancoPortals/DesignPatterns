{
 "cells": [
  {
   "cell_type": "markdown",
   "metadata": {},
   "source": [
    "# II . Observer Pattern \n",
    "### _In Python_\n",
    "\n",
    "## II.1 The OOP implementation\n",
    "\n",
    "The Observer Pattern defines a 1-to-many dependency between objects in which when 1 object changes its state all of its dependencies are notified, and updated automatically.\n",
    "The object changing is the **subject**, and the dependencies are the so called **subscribers** (or _*Observers*_).\n",
    "\n",
    "- The idea is to avoid a **PULL** scheme, in which the subscribers would be asking at relugar periods of time (and indefinitely) if the state suffered any change (i.e., sucking up computational resources _ad infinitum_)\n",
    "- Instead, the observer pattern is based on a **PUSH** architecture. The Subject is responsible for pushing its changes of state to the subscribers (or _observers_). To do so, the Subject must be aware of the existing subscribers (i.e., it has to include a registration method, or _add_, an unsubscription method, or __remove_, and a notification method). On the other hand, the observers (or subscribers) must contain updating methods, in charge of the response to notifications from the subject.\n",
    "\n",
    "\n",
    "Why use it?\n",
    "\n",
    "1. Computationally more efficient than having an object inquiring all the time the state of another one.\n",
    "2. Flexibility to add new subscribers, without modifying the object observed.\n",
    "\n",
    "This is an optimal scheme for GUIs, logging mechanisims and activating/deactivating slack messages."
   ]
  },
  {
   "cell_type": "markdown",
   "metadata": {},
   "source": [
    "### Logging functionality.\n",
    "\n",
    "This is perhaps one of the most interesting functionalities (for me at least), aside from the creation of GUIs, that I can think for the Observer Pattern.\n",
    "In fact, the following implementation is going to deviate slightly from the pure OOP version. Given that we are working in Python, we are going to take advantage of having functional programming eneble natively in it. "
   ]
  },
  {
   "cell_type": "code",
   "execution_count": 4,
   "metadata": {},
   "outputs": [],
   "source": [
    "# let's create a system that logs stuff, depending on what we want to add to the logging system.\n",
    "from dataclasses import field\n",
    "#Event managing system. This actually holds the structure for the Observer Pattern\n",
    "\n",
    "class EventSystem:\n",
    "    def __init__(self):\n",
    "        self.subscribers:dict = field(default_factory=dict)\n",
    "    \n",
    "    def subscribe(self,event_type: str,function):\n",
    "        if not event_type in self.subscribers:\n",
    "            self.subscribers[event_type] = []\n",
    "        self.subscribers[event_type].append(function)\n",
    "    \n",
    "    def post_event(self,event_type:str,data):\n",
    "        if not event_type in self.subscribers:\n",
    "            return\n",
    "        for fn in self.subscribers[event_type]:\n",
    "            fn(data)\n",
    "    \n",
    "# Notice that this would be doing the job of the subject. It bassically can subscribe observers (add) \n",
    "# and posts events to them, in case that the state has changed."
   ]
  },
  {
   "cell_type": "code",
   "execution_count": 5,
   "metadata": {},
   "outputs": [],
   "source": [
    "events = EventSystem()"
   ]
  },
  {
   "cell_type": "code",
   "execution_count": null,
   "metadata": {},
   "outputs": [],
   "source": []
  }
 ],
 "metadata": {
  "interpreter": {
   "hash": "e8f0e8f9bf1fbcb937ca2fc1d9caf485d0a4556caf7aa08f7c9234104dd16a25"
  },
  "kernelspec": {
   "display_name": "Python 3.9.7 ('base')",
   "language": "python",
   "name": "python3"
  },
  "language_info": {
   "codemirror_mode": {
    "name": "ipython",
    "version": 3
   },
   "file_extension": ".py",
   "mimetype": "text/x-python",
   "name": "python",
   "nbconvert_exporter": "python",
   "pygments_lexer": "ipython3",
   "version": "3.9.7"
  },
  "orig_nbformat": 4
 },
 "nbformat": 4,
 "nbformat_minor": 2
}
