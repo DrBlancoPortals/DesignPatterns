{
 "cells": [
  {
   "cell_type": "markdown",
   "metadata": {},
   "source": [
    "# II . Observer Pattern \n",
    "### _In Python_\n",
    "\n",
    "## II.1 The OOP implementation\n",
    "\n",
    "The Observer Pattern defines a 1-to-many dependency between objects in which when 1 object changes its state all of its dependencies are notified, and updated automatically.\n",
    "The object changing is the **subject**, and the dependencies are the so called **subscribers** (or _*Observers*_).\n",
    "\n",
    "- The idea is to avoid a **PULL** scheme, in which the subscribers would be asking at relugar periods of time (and indefinitely) if the state suffered any change (i.e., sucking up computational resources _ad infinitum_)\n",
    "- Instead, the observer pattern is based on a **PUSH** architecture. The Subject is responsible for pushing its changes of state to the subscribers (or _observers_). To do so, the Subject must be aware of the existing subscribers (i.e., it has to include a registration method, or _add_, an unsubscription method, or __remove_, and a notification method). On the other hand, the observers (or subscribers) must contain updating methods, in charge of the response to notifications from the subject.\n",
    "\n",
    "\n",
    "Why use it?\n",
    "\n",
    "1. Computationally more efficient than having an object inquiring all the time the state of another one.\n",
    "2. Flexibility to add new subscribers, without modifying the object observed.\n",
    "\n",
    "This is an optimal scheme for GUIs, logging mechanisims and activating/deactivating slack messages."
   ]
  },
  {
   "cell_type": "markdown",
   "metadata": {},
   "source": [
    "----\n",
    "### OOP observer pattern - The Bare bones of this pattern\n",
    "\n",
    "In this notebook we are going to implement the object oriente programming basic version of the observer pattern, not worrying about the specifics of what the observers are doing with the info, but instead focusing in the actual structure of the pattern.\n",
    "\n",
    "So ... let's begin as always with the actual abstract classes implementation, and follow from there ..."
   ]
  },
  {
   "cell_type": "code",
   "execution_count": 9,
   "metadata": {},
   "outputs": [],
   "source": [
    "from abc import ABC, abstractmethod\n",
    "\n",
    "# Firts, the interfaces (or equivalently in python - the abstract classes for \n",
    "# the concrete ones to inherit)\n",
    "\n",
    "class ISubscriber(ABC):\n",
    "    \"\"\"Intercace for the subscribers (observers)\"\"\"\n",
    "    # The methods are implemented as static. Then, they \n",
    "    # wont be referencing a concrete instantiation ... \n",
    "    # This is unsurprising -> They belong to an ABC class\n",
    "    @staticmethod\n",
    "    @abstractmethod\n",
    "    def update():\n",
    "        \"\"\"updates the susbcriber state, recieving notifications\"\"\"\n",
    "\n",
    "class ISubject(ABC):\n",
    "    \"\"\"Interface for the subjects\"\"\"\n",
    "    \n",
    "    # The methods are implemented as static. Then, they \n",
    "    # wont be referencing a concrete instantiation ... \n",
    "    # This is unsurprising -> They belong to an ABC class\n",
    "\n",
    "    @staticmethod\n",
    "    @abstractmethod\n",
    "    def add(observer: ISubscriber):\n",
    "        \"\"\"Implementation for the adding method\"\"\"\n",
    "    \n",
    "    @staticmethod\n",
    "    @abstractmethod\n",
    "    def remove(observer:ISubscriber):\n",
    "        \"\"\"Implementaion for the removing method\"\"\"\n",
    "\n",
    "    @staticmethod\n",
    "    @abstractmethod\n",
    "    def notify():\n",
    "        \"\"\"Implementaion for the updating method (sends message to subscribers)\"\"\""
   ]
  },
  {
   "cell_type": "markdown",
   "metadata": {},
   "source": [
    "Now, we need the concrete implementations for these classes ... a concrete _Subject_ and a concrete _Subscriber_ (or more)"
   ]
  },
  {
   "cell_type": "code",
   "execution_count": 23,
   "metadata": {},
   "outputs": [],
   "source": [
    "class Subject(ISubject):\n",
    "    \"\"\"One of the specific implementations - for a subject (Observable)\"\"\"\n",
    "    def __init__(self,name:str):\n",
    "        \"\"\"Initialization - The only thing needed == keeping track of the observers\"\"\"\n",
    "        self._observers = set() #Convenient -> Avoids repetition\n",
    "        self.name = name #To be identied by others\n",
    "\n",
    "    def add(self,observer:ISubscriber):\n",
    "        self._observers.add(observer)\n",
    "\n",
    "    def remove(self, observer:ISubscriber):\n",
    "        self._observers.remove(observer)\n",
    "\n",
    "    def notify(self):\n",
    "        for observer in self._observers:\n",
    "            observer.update()\n",
    "\n",
    "class ConcreteSubscriber(ISubscriber):\n",
    "    def __init__(self, observable : ISubject,name:str):\n",
    "        observable.add(self) #Here is where the magic happens \n",
    "        # -> uppon creation, it is linked to an observable/subject\n",
    "        self.stalked = observable.name\n",
    "        self.name = name #Added to be able to identify itself\n",
    "\n",
    "    def update(self):\n",
    "        print(f'{self.name} recieved message from {self.stalked}')\n"
   ]
  },
  {
   "cell_type": "markdown",
   "metadata": {},
   "source": [
    "And now, let see how they work together"
   ]
  },
  {
   "cell_type": "code",
   "execution_count": 26,
   "metadata": {},
   "outputs": [
    {
     "name": "stdout",
     "output_type": "stream",
     "text": [
      "Stalker A recieved message from Mr. A\n",
      "Stalker B recieved message from Mr. A\n"
     ]
    }
   ],
   "source": [
    "concreteObservableA = Subject(name = 'Mr. A')\n",
    "\n",
    "ConcreteSubscriberA = ConcreteSubscriber(concreteObservableA,name = 'Stalker A')\n",
    "ConcreteSubscriberB = ConcreteSubscriber(concreteObservableA,name = 'Stalker B')\n",
    "\n",
    "concreteObservableA.notify()\n"
   ]
  },
  {
   "cell_type": "markdown",
   "metadata": {},
   "source": [
    "----\n",
    "### Logging functionality.\n",
    "\n",
    "This is perhaps one of the most interesting functionalities (for me at least), aside from the creation of GUIs, that I can think for the Observer Pattern.\n",
    "In reality, the logging module does already a lot about the implementation of an observer pattern by its own, but knowing about the actual structure of the pattern will help with the understanding of the actual work done under the hood.\n",
    "\n",
    "So, to see how it works check the folders contained in this same repo, called observer scripting"
   ]
  }
 ],
 "metadata": {
  "interpreter": {
   "hash": "e8f0e8f9bf1fbcb937ca2fc1d9caf485d0a4556caf7aa08f7c9234104dd16a25"
  },
  "kernelspec": {
   "display_name": "Python 3.9.7 ('base')",
   "language": "python",
   "name": "python3"
  },
  "language_info": {
   "codemirror_mode": {
    "name": "ipython",
    "version": 3
   },
   "file_extension": ".py",
   "mimetype": "text/x-python",
   "name": "python",
   "nbconvert_exporter": "python",
   "pygments_lexer": "ipython3",
   "version": "3.9.7"
  },
  "orig_nbformat": 4
 },
 "nbformat": 4,
 "nbformat_minor": 2
}
