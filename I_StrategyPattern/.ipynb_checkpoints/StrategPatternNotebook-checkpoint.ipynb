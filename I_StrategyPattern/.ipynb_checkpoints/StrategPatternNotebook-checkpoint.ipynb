{
 "cells": [
  {
   "cell_type": "code",
   "execution_count": 8,
   "id": "d0b4b455-5258-46fb-a95d-e0f0c6d731d5",
   "metadata": {},
   "outputs": [],
   "source": [
    "from abc import ABC, abstractmethod\n",
    "import random\n",
    "\n",
    "\n",
    "class I_NumClassifier(ABC):\n",
    "    @abstractmethod\n",
    "    def classify(self,*args,**kwargs):\n",
    "        pass\n",
    "\n",
    "class RandomClassifier(I_NumClassifier):\n",
    "    def classify(self,lista:list) -> list:\n",
    "        lista2 = lista.copy()\n",
    "        random.shuffle(lista2)\n",
    "        return lista2\n",
    "\n",
    "class List_reader:\n",
    "    def __init__(self,lista:list) -> None:\n",
    "        self.lista = lista\n",
    "    \n",
    "    def classify_list(self,strategy: I_NumClassifier):\n",
    "        print(f'Given list {self.lista}')\n",
    "        print(strategy)\n",
    "        sorted_list = strategy().classify(self.lista)\n",
    "        print(f'Classified list {sorted_list}')\n",
    "    "
   ]
  },
  {
   "cell_type": "code",
   "execution_count": 12,
   "id": "00ba641e-5403-4799-874d-dfc5c34d161b",
   "metadata": {},
   "outputs": [
    {
     "name": "stdout",
     "output_type": "stream",
     "text": [
      "['1', '4', '7', '0', '12', '5', '43']\n",
      "Given list ['1', '4', '7', '0', '12', '5', '43']\n",
      "<class '__main__.RandomClassifier'>\n",
      "Classified list ['43', '5', '4', '7', '0', '1', '12']\n"
     ]
    }
   ],
   "source": [
    "lista = [1,4,7,0,12,5,43]\n",
    "lista = [str(i) for i in lista]\n",
    "reader = List_reader(lista)\n",
    "print(reader.lista)\n",
    "reader.classify_list(RandomClassifier)\n"
   ]
  },
  {
   "cell_type": "code",
   "execution_count": 4,
   "id": "230a3ffa-52ad-45e5-87ea-715358aac912",
   "metadata": {},
   "outputs": [
    {
     "data": {
      "text/plain": [
       "['5', '12', '7', '1', '43', '4', '0']"
      ]
     },
     "execution_count": 4,
     "metadata": {},
     "output_type": "execute_result"
    }
   ],
   "source": [
    "lista"
   ]
  },
  {
   "cell_type": "code",
   "execution_count": 5,
   "id": "d83633f2-f1ef-4ba5-ac99-16d8a08f0b40",
   "metadata": {},
   "outputs": [],
   "source": [
    "random.shuffle(lista)"
   ]
  },
  {
   "cell_type": "code",
   "execution_count": 7,
   "id": "2a204ca3-4ebd-4f01-9de3-b2ef7e1267a4",
   "metadata": {},
   "outputs": [
    {
     "data": {
      "text/plain": [
       "['0', '43', '12', '5', '1', '7', '4']"
      ]
     },
     "execution_count": 7,
     "metadata": {},
     "output_type": "execute_result"
    }
   ],
   "source": [
    "lista.copy()"
   ]
  },
  {
   "cell_type": "code",
   "execution_count": null,
   "id": "1cfcf856-6c77-47c1-8925-2f0da9f66547",
   "metadata": {},
   "outputs": [],
   "source": []
  }
 ],
 "metadata": {
  "kernelspec": {
   "display_name": "Python 3 (ipykernel)",
   "language": "python",
   "name": "python3"
  },
  "language_info": {
   "codemirror_mode": {
    "name": "ipython",
    "version": 3
   },
   "file_extension": ".py",
   "mimetype": "text/x-python",
   "name": "python",
   "nbconvert_exporter": "python",
   "pygments_lexer": "ipython3",
   "version": "3.9.7"
  }
 },
 "nbformat": 4,
 "nbformat_minor": 5
}
