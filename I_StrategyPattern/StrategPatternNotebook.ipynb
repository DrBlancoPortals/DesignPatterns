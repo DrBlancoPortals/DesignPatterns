{
 "cells": [
  {
   "cell_type": "markdown",
   "id": "424b0e98",
   "metadata": {},
   "source": [
    "# I . Strategy Pattern \n",
    "### _In Python_¨\n",
    "\n",
    "## I.1 The OOP implementation\n",
    "\n",
    "The Strategy Pattern defines a **family of algorithms**, encapsulates each one of them and makes them interchangeable. This pattern favours the modificacion of these algorithms without affecting the clients using it.\n",
    "\n",
    "- The encapsulation is what makes the algorithms interchangeable.\n",
    "- i.e., this pattern de-couples the algorithms from the object (client) using them. So, changing the algorithms does not affect the client's code\n",
    "\n",
    "\n",
    "Why use it?\n",
    "\n",
    "1. Inheritance is not intended for code reuse. i.e., strategy pattern minimizes inheritance.\n",
    "2. The strategy pattern avoids the hard coding of behaviours into the intended overall classes. It favours the creation of abstract behaviours (by encapsulating each algorithm in its own class), which are latter injected into the class using them."
   ]
  },
  {
   "cell_type": "markdown",
   "id": "23de6812",
   "metadata": {},
   "source": [
    "#### Example: List classifier\n",
    "*(This is the most 'straight forward implementation from the books in Python, using the abc library to create the abstract classes)*"
   ]
  },
  {
   "cell_type": "code",
   "execution_count": 5,
   "id": "d0b4b455-5258-46fb-a95d-e0f0c6d731d5",
   "metadata": {},
   "outputs": [],
   "source": [
    "from abc import ABC, abstractmethod\n",
    "import random\n",
    "\n",
    "#We create the abstract class for the classification method\n",
    "class I_NumClassifier(ABC):\n",
    "    @abstractmethod\n",
    "    def classify(self,*args,**kwargs):\n",
    "        pass\n",
    "\n",
    "#We encapsulate an specific behaviour (algorithm or concrete behaviour) in its own class\n",
    "class RandomClassifier(I_NumClassifier):\n",
    "    def classify(self,lista:list) -> list:\n",
    "        lista2 = lista.copy()\n",
    "        random.shuffle(lista2)\n",
    "        return lista2\n",
    "\n",
    "#We create the client that uses the classification algorithm\n",
    "class List_reader:\n",
    "    def __init__(self,lista:list) -> None:\n",
    "        self.lista = lista\n",
    "    \n",
    "    def classify_list(self,strategy: I_NumClassifier):\n",
    "        print(f'The provided classifier is {strategy().__class__.__name__}')\n",
    "        print(f'Given list {self.lista}')\n",
    "        sorted_list = strategy().classify(self.lista)\n",
    "        print(f'Classified list {sorted_list}')"
   ]
  },
  {
   "cell_type": "markdown",
   "id": "0332e3b6",
   "metadata": {},
   "source": [
    "Let us try some examples now"
   ]
  },
  {
   "cell_type": "code",
   "execution_count": 7,
   "id": "00ba641e-5403-4799-874d-dfc5c34d161b",
   "metadata": {},
   "outputs": [
    {
     "name": "stdout",
     "output_type": "stream",
     "text": [
      "The provided classifier is RandomClassifier\n",
      "Given list [1, 4, 7, 0, 12, 5, 43]\n",
      "Classified list [0, 7, 12, 4, 1, 43, 5]\n"
     ]
    }
   ],
   "source": [
    "lista = [1,4,7,0,12,5,43]\n",
    "reader = List_reader(lista)\n",
    "reader.classify_list(RandomClassifier)\n"
   ]
  },
  {
   "cell_type": "markdown",
   "id": "8238fd8f",
   "metadata": {},
   "source": [
    "We can always create other concrete behaviours and inject them into the client, without changing the client's code"
   ]
  },
  {
   "cell_type": "code",
   "execution_count": 8,
   "id": "edbb14ef",
   "metadata": {},
   "outputs": [],
   "source": [
    "class ReversedClassifier(I_NumClassifier):\n",
    "    def classify(self,lista:list) -> list:\n",
    "        lista2 = lista.copy()\n",
    "        lista2.reverse()\n",
    "        return lista2\n",
    "\n",
    "class SortingClassifier(I_NumClassifier):\n",
    "    def classify(self,lista:list) -> list:\n",
    "        lista2 = lista.copy()\n",
    "        lista2.sort()\n",
    "        return lista2\n",
    "\n",
    "class BlackHoleClassifier(I_NumClassifier):\n",
    "    def classify(self,lista:list) -> list:\n",
    "        return []"
   ]
  },
  {
   "cell_type": "markdown",
   "id": "8a9a8192",
   "metadata": {},
   "source": [
    "Let us try them"
   ]
  },
  {
   "cell_type": "code",
   "execution_count": 9,
   "id": "9f4ef9f4",
   "metadata": {},
   "outputs": [
    {
     "name": "stdout",
     "output_type": "stream",
     "text": [
      "The provided classifier is ReversedClassifier\n",
      "Given list [1, 4, 7, 0, 12, 5, 43]\n",
      "Classified list [43, 5, 12, 0, 7, 4, 1]\n",
      "The provided classifier is SortingClassifier\n",
      "Given list [1, 4, 7, 0, 12, 5, 43]\n",
      "Classified list [0, 1, 4, 5, 7, 12, 43]\n",
      "The provided classifier is BlackHoleClassifier\n",
      "Given list [1, 4, 7, 0, 12, 5, 43]\n",
      "Classified list []\n"
     ]
    }
   ],
   "source": [
    "reader.classify_list(ReversedClassifier)\n",
    "reader.classify_list(SortingClassifier)\n",
    "reader.classify_list(BlackHoleClassifier)\n",
    "\n"
   ]
  },
  {
   "cell_type": "markdown",
   "id": "10f237d2",
   "metadata": {},
   "source": [
    "Notice how we didn't modify the List_reader class at all, and we didn't even required a re-instantiation of the class. It works perfectly well by calling different strategies from the execute() method"
   ]
  },
  {
   "cell_type": "markdown",
   "id": "605bc35e",
   "metadata": {},
   "source": [
    "## Functional Approach to the Strategy Pattern\n",
    "\n",
    "Given that Python provides a good basis for functional programming, let usw try this option.\n",
    "Instead of creating classes for the concrete strategies, we can create functions that are later directly injected into the client"
   ]
  },
  {
   "cell_type": "code",
   "execution_count": 4,
   "id": "d1b5a2c5",
   "metadata": {},
   "outputs": [],
   "source": [
    "def reversedClassifier_function(lista : list) -> list:\n",
    "    lista2 = lista.copy()\n",
    "    lista2.reverse()\n",
    "    return lista2\n",
    "\n",
    "def blackHoleClassifier_function(lista : list) -> list:\n",
    "    return []\n",
    "\n",
    "def randomClassifier_function(lista : list) -> list:\n",
    "    lista2 = lista.copy()\n",
    "    random.shuffle(lista2)\n",
    "    return lista2\n",
    "\n",
    "def sortingClassifier_function(lista:list) -> list:\n",
    "    lista2 = lista.copy()\n",
    "    lista2.sort()\n",
    "    return lista2\n",
    "\n",
    "\n",
    "#We also have to modify the client to accept functions\n",
    "\n",
    "class List_reader_functional:\n",
    "    def __init__(self,lista:list) -> None:\n",
    "        self.lista = lista\n",
    "    \n",
    "    def classify_list(self,strategy):\n",
    "        print(f'The provided classifier is {strategy.__name__}')\n",
    "        print(f'Given list {self.lista}')\n",
    "        sorted_list = strategy(self.lista)\n",
    "        print(f'Classified list {sorted_list}')\n",
    "\n",
    "\n"
   ]
  },
  {
   "cell_type": "markdown",
   "id": "674d9540",
   "metadata": {},
   "source": [
    "Let us try again all the different combinations of strategies"
   ]
  },
  {
   "cell_type": "code",
   "execution_count": 7,
   "id": "b0e5d65d",
   "metadata": {},
   "outputs": [
    {
     "name": "stdout",
     "output_type": "stream",
     "text": [
      "The provided classifier is randomClassifier_function\n",
      "Given list [1, 4, 7, 0, 12, 5, 43]\n",
      "Classified list [0, 7, 12, 5, 43, 4, 1]\n",
      "The provided classifier is reversedClassifier_function\n",
      "Given list [1, 4, 7, 0, 12, 5, 43]\n",
      "Classified list [43, 5, 12, 0, 7, 4, 1]\n",
      "The provided classifier is sortingClassifier_function\n",
      "Given list [1, 4, 7, 0, 12, 5, 43]\n",
      "Classified list [0, 1, 4, 5, 7, 12, 43]\n",
      "The provided classifier is blackHoleClassifier_function\n",
      "Given list [1, 4, 7, 0, 12, 5, 43]\n",
      "Classified list []\n"
     ]
    }
   ],
   "source": [
    "lista = [1,4,7,0,12,5,43]\n",
    "reader = List_reader_functional(lista)\n",
    "reader.classify_list(randomClassifier_function)\n",
    "reader.classify_list(reversedClassifier_function)\n",
    "reader.classify_list(sortingClassifier_function)\n",
    "reader.classify_list(blackHoleClassifier_function)"
   ]
  },
  {
   "cell_type": "markdown",
   "id": "99710076",
   "metadata": {},
   "source": [
    "And it works just fine! (Still, a strategy pattern)"
   ]
  }
 ],
 "metadata": {
  "kernelspec": {
   "display_name": "Python 3 (ipykernel)",
   "language": "python",
   "name": "python3"
  },
  "language_info": {
   "codemirror_mode": {
    "name": "ipython",
    "version": 3
   },
   "file_extension": ".py",
   "mimetype": "text/x-python",
   "name": "python",
   "nbconvert_exporter": "python",
   "pygments_lexer": "ipython3",
   "version": "3.9.7"
  }
 },
 "nbformat": 4,
 "nbformat_minor": 5
}
