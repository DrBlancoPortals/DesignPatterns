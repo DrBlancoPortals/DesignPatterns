{
 "cells": [
  {
   "cell_type": "markdown",
   "id": "424b0e98",
   "metadata": {},
   "source": [
    "# I . Strategy Pattern \n",
    "### _In Python_\n",
    "\n",
    "## I.1 The OOP implementation\n",
    "\n",
    "The Strategy Pattern defines a **family of algorithms**, encapsulates each one of them and makes them interchangeable. This pattern favours the modificacion of these algorithms without affecting the clients using it.\n",
    "\n",
    "- The encapsulation is what makes the algorithms interchangeable.\n",
    "- i.e., this pattern de-couples the algorithms from the object (client) using them. So, changing the algorithms does not affect the client's code\n",
    "\n",
    "\n",
    "Why use it?\n",
    "\n",
    "1. Inheritance is not intended for code reuse. i.e., strategy pattern minimizes inheritance.\n",
    "2. The strategy pattern avoids the hard coding of behaviours into the intended overall classes. It favours the creation of abstract behaviours (by encapsulating each algorithm in its own class), which are latter injected into the class using them."
   ]
  },
  {
   "cell_type": "markdown",
   "id": "23de6812",
   "metadata": {},
   "source": [
    "#### Example: List classifier\n",
    "*(This is the most 'straight forward implementation from the books in Python, using the abc library to create the abstract classes)*"
   ]
  },
  {
   "cell_type": "code",
   "execution_count": 5,
   "id": "d0b4b455-5258-46fb-a95d-e0f0c6d731d5",
   "metadata": {},
   "outputs": [],
   "source": [
    "from abc import ABC, abstractmethod\n",
    "import random\n",
    "\n",
    "#We create the abstract class for the classification method\n",
    "class I_NumClassifier(ABC):\n",
    "    @abstractmethod\n",
    "    def classify(self,*args,**kwargs):\n",
    "        pass\n",
    "\n",
    "#We encapsulate an specific behaviour (algorithm or concrete behaviour) in its own class\n",
    "class RandomClassifier(I_NumClassifier):\n",
    "    def classify(self,lista:list) -> list:\n",
    "        lista2 = lista.copy()\n",
    "        random.shuffle(lista2)\n",
    "        return lista2\n",
    "\n",
    "#We create the client that uses the classification algorithm\n",
    "class List_reader:\n",
    "    def __init__(self,lista:list) -> None:\n",
    "        self.lista = lista\n",
    "    \n",
    "    def classify_list(self,strategy: I_NumClassifier):\n",
    "        print(f'The provided classifier is {strategy().__class__.__name__}')\n",
    "        print(f'Given list {self.lista}')\n",
    "        sorted_list = strategy().classify(self.lista)\n",
    "        print(f'Classified list {sorted_list}')"
   ]
  },
  {
   "cell_type": "markdown",
   "id": "0332e3b6",
   "metadata": {},
   "source": [
    "Let us try some examples now"
   ]
  },
  {
   "cell_type": "code",
   "execution_count": 7,
   "id": "00ba641e-5403-4799-874d-dfc5c34d161b",
   "metadata": {},
   "outputs": [
    {
     "name": "stdout",
     "output_type": "stream",
     "text": [
      "The provided classifier is RandomClassifier\n",
      "Given list [1, 4, 7, 0, 12, 5, 43]\n",
      "Classified list [0, 7, 12, 4, 1, 43, 5]\n"
     ]
    }
   ],
   "source": [
    "lista = [1,4,7,0,12,5,43]\n",
    "reader = List_reader(lista)\n",
    "reader.classify_list(RandomClassifier)\n"
   ]
  },
  {
   "cell_type": "markdown",
   "id": "8238fd8f",
   "metadata": {},
   "source": [
    "We can always create other concrete behaviours and inject them into the client, without changing the client's code"
   ]
  },
  {
   "cell_type": "code",
   "execution_count": 8,
   "id": "edbb14ef",
   "metadata": {},
   "outputs": [],
   "source": [
    "class ReversedClassifier(I_NumClassifier):\n",
    "    def classify(self,lista:list) -> list:\n",
    "        lista2 = lista.copy()\n",
    "        lista2.reverse()\n",
    "        return lista2\n",
    "\n",
    "class SortingClassifier(I_NumClassifier):\n",
    "    def classify(self,lista:list) -> list:\n",
    "        lista2 = lista.copy()\n",
    "        lista2.sort()\n",
    "        return lista2\n",
    "\n",
    "class BlackHoleClassifier(I_NumClassifier):\n",
    "    def classify(self,lista:list) -> list:\n",
    "        return []"
   ]
  },
  {
   "cell_type": "markdown",
   "id": "8a9a8192",
   "metadata": {},
   "source": [
    "Let us try them"
   ]
  },
  {
   "cell_type": "code",
   "execution_count": 9,
   "id": "9f4ef9f4",
   "metadata": {},
   "outputs": [
    {
     "name": "stdout",
     "output_type": "stream",
     "text": [
      "The provided classifier is ReversedClassifier\n",
      "Given list [1, 4, 7, 0, 12, 5, 43]\n",
      "Classified list [43, 5, 12, 0, 7, 4, 1]\n",
      "The provided classifier is SortingClassifier\n",
      "Given list [1, 4, 7, 0, 12, 5, 43]\n",
      "Classified list [0, 1, 4, 5, 7, 12, 43]\n",
      "The provided classifier is BlackHoleClassifier\n",
      "Given list [1, 4, 7, 0, 12, 5, 43]\n",
      "Classified list []\n"
     ]
    }
   ],
   "source": [
    "reader.classify_list(ReversedClassifier)\n",
    "reader.classify_list(SortingClassifier)\n",
    "reader.classify_list(BlackHoleClassifier)\n",
    "\n"
   ]
  },
  {
   "cell_type": "markdown",
   "id": "10f237d2",
   "metadata": {},
   "source": [
    "Notice how we didn't modify the List_reader class at all, and we didn't even required a re-instantiation of the class. It works perfectly well by calling different strategies from the execute() method"
   ]
  },
  {
   "cell_type": "markdown",
   "id": "605bc35e",
   "metadata": {},
   "source": [
    "## I.2 Functional Approach to the Strategy Pattern\n",
    "\n",
    "Given that Python provides a good basis for functional programming, let usw try this option.\n",
    "Instead of creating classes for the concrete strategies, we can create functions that are later directly injected into the client"
   ]
  },
  {
   "cell_type": "code",
   "execution_count": 4,
   "id": "d1b5a2c5",
   "metadata": {},
   "outputs": [],
   "source": [
    "def reversedClassifier_function(lista : list) -> list:\n",
    "    lista2 = lista.copy()\n",
    "    lista2.reverse()\n",
    "    return lista2\n",
    "\n",
    "def blackHoleClassifier_function(lista : list) -> list:\n",
    "    return []\n",
    "\n",
    "def randomClassifier_function(lista : list) -> list:\n",
    "    lista2 = lista.copy()\n",
    "    random.shuffle(lista2)\n",
    "    return lista2\n",
    "\n",
    "def sortingClassifier_function(lista:list) -> list:\n",
    "    lista2 = lista.copy()\n",
    "    lista2.sort()\n",
    "    return lista2\n",
    "\n",
    "\n",
    "#We also have to modify the client to accept functions\n",
    "\n",
    "class List_reader_functional:\n",
    "    def __init__(self,lista:list) -> None:\n",
    "        self.lista = lista\n",
    "    \n",
    "    def classify_list(self,strategy):\n",
    "        print(f'The provided classifier is {strategy.__name__}')\n",
    "        print(f'Given list {self.lista}')\n",
    "        sorted_list = strategy(self.lista)\n",
    "        print(f'Classified list {sorted_list}')\n",
    "\n",
    "\n"
   ]
  },
  {
   "cell_type": "markdown",
   "id": "674d9540",
   "metadata": {},
   "source": [
    "Let us try again all the different combinations of strategies"
   ]
  },
  {
   "cell_type": "code",
   "execution_count": 7,
   "id": "b0e5d65d",
   "metadata": {},
   "outputs": [
    {
     "name": "stdout",
     "output_type": "stream",
     "text": [
      "The provided classifier is randomClassifier_function\n",
      "Given list [1, 4, 7, 0, 12, 5, 43]\n",
      "Classified list [0, 7, 12, 5, 43, 4, 1]\n",
      "The provided classifier is reversedClassifier_function\n",
      "Given list [1, 4, 7, 0, 12, 5, 43]\n",
      "Classified list [43, 5, 12, 0, 7, 4, 1]\n",
      "The provided classifier is sortingClassifier_function\n",
      "Given list [1, 4, 7, 0, 12, 5, 43]\n",
      "Classified list [0, 1, 4, 5, 7, 12, 43]\n",
      "The provided classifier is blackHoleClassifier_function\n",
      "Given list [1, 4, 7, 0, 12, 5, 43]\n",
      "Classified list []\n"
     ]
    }
   ],
   "source": [
    "lista = [1,4,7,0,12,5,43]\n",
    "reader = List_reader_functional(lista)\n",
    "reader.classify_list(randomClassifier_function)\n",
    "reader.classify_list(reversedClassifier_function)\n",
    "reader.classify_list(sortingClassifier_function)\n",
    "reader.classify_list(blackHoleClassifier_function)"
   ]
  },
  {
   "cell_type": "markdown",
   "id": "99710076",
   "metadata": {},
   "source": [
    "And it works just fine! (Still, a strategy pattern)"
   ]
  },
  {
   "cell_type": "markdown",
   "id": "a2271f65",
   "metadata": {},
   "source": [
    "## I.3 _Common problems with these patterns described_\n",
    "\n",
    "### I. Problem 1 - Strategies with hard coded parameters\n",
    "What would happen in cases where the different strategies require hard coded parameters inside to function properly?\n",
    "\n",
    "If that was the case, we would therefore be losing part of the interchangeability that comes with the Strategy Pattern approach."
   ]
  },
  {
   "cell_type": "markdown",
   "id": "c670d9e7",
   "metadata": {},
   "source": [
    "#### Solution 1 *args and **kwargs\n",
    "We already did that to some extent in the examples above, and what happens is that we are losing some of the typing information right away. Forcing us to write that info in the _.\\_\\_doc\\_\\__, etc."
   ]
  },
  {
   "cell_type": "markdown",
   "id": "910c18b7",
   "metadata": {},
   "source": [
    "### Solution 2 Creating a shared (single) Parameters class\n",
    "\n",
    "We create a class holding the different parameters for the different strategies, that is instantiated by every different strategy uppon calling and that holds the typing information.\n",
    "Let us asume a similar example as above, were we are now allowing the selection of the initial point for the new order in the list (we allow the user to select the new element in the positional index 0)"
   ]
  },
  {
   "cell_type": "code",
   "execution_count": 8,
   "id": "1c6dbed0",
   "metadata": {},
   "outputs": [],
   "source": [
    "from dataclasses import dataclass,field\n",
    "from abc import ABC, abstractmethod\n",
    "import random"
   ]
  },
  {
   "cell_type": "code",
   "execution_count": 32,
   "id": "60d1018d",
   "metadata": {},
   "outputs": [],
   "source": [
    "@dataclass\n",
    "class StrategyParameters:\n",
    "    #For the initial index classifier\n",
    "    initial_index: int = 5\n",
    "    #An extra parameter that allows the a classifier to remove indices\n",
    "    revome_indices: list = field(default_factory=list)\n",
    "\n",
    "#We create the abstract class for the classification method\n",
    "class I_ListClassifier(ABC):\n",
    "    @abstractmethod\n",
    "    def classify(self,lista:list, param:StrategyParameters):\n",
    "        pass\n",
    "\n",
    "#We encapsulate an specific behaviour (algorithm or concrete behaviour) in its own class\n",
    "class RandomClassifier(I_ListClassifier):\n",
    "    def classify(self,lista:list,param:StrategyParameters) -> list:\n",
    "        lista2 = lista.copy()\n",
    "        random.shuffle(lista2)\n",
    "        return lista2\n",
    "\n",
    "class InitialNumberClassifier(I_ListClassifier):\n",
    "    def classify(self,lista:list,param:StrategyParameters) -> list:\n",
    "        lista2 = lista[param.initial_index:].copy()\n",
    "        lista2.extend(lista[:param.initial_index])\n",
    "        return lista2\n",
    "\n",
    "class RemoveIndicesClassifier(I_ListClassifier):\n",
    "    def classify(self,lista:list,param:StrategyParameters) -> list:\n",
    "        lista2 = [el for i,el in enumerate(lista) if i not in param.revome_indices]\n",
    "        return lista2\n",
    "\n",
    "#We create the client that uses the classification algorithm\n",
    "class List_classifier:\n",
    "    def __init__(self,lista:list,strategy: I_ListClassifier) -> None:\n",
    "        self.lista = lista\n",
    "        self.strat = strategy\n",
    "    \n",
    "    def classify_list(self,initial_idx = 0, revome_indices = None):\n",
    "        if type(revome_indices) != list:\n",
    "            revome_indices = []\n",
    "        print(f'The provided classifier is {self.strat.__class__.__name__}')\n",
    "        print(f'Given list {self.lista}')\n",
    "        sorted_list = self.strat().classify(lista = self.lista,param = StrategyParameters(initial_index=initial_idx,revome_indices = revome_indices))\n",
    "        print(f'Classified list {sorted_list}')"
   ]
  },
  {
   "cell_type": "code",
   "execution_count": 34,
   "id": "1c105c4a",
   "metadata": {},
   "outputs": [
    {
     "name": "stdout",
     "output_type": "stream",
     "text": [
      "The provided classifier is ABCMeta\n",
      "Given list [1, 4, 7, 0, 12, 5, 43]\n",
      "Classified list [7, 0, 12, 5, 43, 1, 4]\n",
      "The provided classifier is ABCMeta\n",
      "Given list [1, 4, 7, 0, 12, 5, 43]\n",
      "Classified list [43, 12, 1, 7, 0, 5, 4]\n",
      "The provided classifier is ABCMeta\n",
      "Given list [1, 4, 7, 0, 12, 5, 43]\n",
      "Classified list [7, 0, 5, 43]\n"
     ]
    }
   ],
   "source": [
    "lista = [1,4,7,0,12,5,43]\n",
    "reader = List_classifier(lista,InitialNumberClassifier)\n",
    "reader.classify_list(initial_idx=2)\n",
    "\n",
    "reader = List_classifier(lista,RandomClassifier)\n",
    "reader.classify_list()\n",
    "\n",
    "reader = List_classifier(lista,RemoveIndicesClassifier)\n",
    "reader.classify_list(revome_indices=[0,1,4])"
   ]
  },
  {
   "cell_type": "markdown",
   "id": "9c3a2bdf",
   "metadata": {},
   "source": [
    "Now, the big problem is that by introducing this solution we are creating a **coupling** issue, given that the parameters class is shared by every other single class, and that the Client is now forced to know of the existance of every single parameter in that parameter class to be able to operate properly with any given new strategy.\n",
    "This negates somehow the power of having a strategy pattern in place, were the idea was to **decouple** code and get multiple interchangeable functionalities with a bare minimum number of lines of code "
   ]
  },
  {
   "cell_type": "markdown",
   "id": "75e693a8",
   "metadata": {},
   "source": [
    "### Solution 3 Creaing Parameters per strategy (independent) -> Adding an initializer\n",
    "To do so in an efficient way, we are going to keep using the dataclass decorator"
   ]
  },
  {
   "cell_type": "code",
   "execution_count": 35,
   "id": "a836cf66",
   "metadata": {},
   "outputs": [],
   "source": [
    "#We create the abstract class for the classification method\n",
    "class I_ListClassifier(ABC):\n",
    "    @abstractmethod\n",
    "    def classify(self,lista:list):\n",
    "        pass\n",
    "\n",
    "#We encapsulate an specific behaviour (algorithm or concrete behaviour) in its own class\n",
    "class RandomClassifier(I_ListClassifier):\n",
    "    def classify(self,lista:list) -> list:\n",
    "        lista2 = lista.copy()\n",
    "        random.shuffle(lista2)\n",
    "        return lista2\n",
    "\n",
    "@dataclass\n",
    "class InitialNumberClassifier(I_ListClassifier):\n",
    "    initial_index: int = 5 #Using the dataclass decorator we are avoinding to write the actual .__init__ method here\n",
    "    def classify(self,lista:list) -> list:\n",
    "        lista2 = lista[self.initial_index:].copy()\n",
    "        lista2.extend(lista[:self.initial_index])\n",
    "        return lista2\n",
    "\n",
    "@dataclass\n",
    "class RemoveIndicesClassifier(I_ListClassifier):\n",
    "    revome_indices: list = field(default_factory=list)\n",
    "    def classify(self,lista:list) -> list:\n",
    "        lista2 = [el for i,el in enumerate(lista) if i not in self.revome_indices]\n",
    "        return lista2\n",
    "\n",
    "#We create the client that uses the classification algorithm - And now decoupled from the specifics of each algorithm\n",
    "class List_classifier:\n",
    "    def __init__(self,lista:list,strategy: I_ListClassifier) -> None:\n",
    "        self.lista = lista\n",
    "        self.strat = strategy\n",
    "    \n",
    "    def classify_list(self):\n",
    "        print(f'The provided classifier is {self.strat.__class__.__name__}')\n",
    "        print(f'Given list {self.lista}')\n",
    "        sorted_list = self.strat.classify(lista = self.lista)\n",
    "        print(f'Classified list {sorted_list}')"
   ]
  },
  {
   "cell_type": "markdown",
   "id": "89566791",
   "metadata": {},
   "source": [
    "We can now initialize the different strategies independently and feed them to the Client"
   ]
  },
  {
   "cell_type": "code",
   "execution_count": 36,
   "id": "68f6c0a2",
   "metadata": {},
   "outputs": [
    {
     "name": "stdout",
     "output_type": "stream",
     "text": [
      "The provided classifier is InitialNumberClassifier\n",
      "Given list [1, 4, 7, 0, 12, 5, 43]\n",
      "Classified list [7, 0, 12, 5, 43, 1, 4]\n",
      "The provided classifier is RandomClassifier\n",
      "Given list [1, 4, 7, 0, 12, 5, 43]\n",
      "Classified list [12, 43, 1, 5, 4, 0, 7]\n",
      "The provided classifier is RemoveIndicesClassifier\n",
      "Given list [1, 4, 7, 0, 12, 5, 43]\n",
      "Classified list [7, 0, 5, 43]\n"
     ]
    }
   ],
   "source": [
    "lista = [1,4,7,0,12,5,43]\n",
    "reader = List_classifier(lista,InitialNumberClassifier(initial_index=2))\n",
    "reader.classify_list()\n",
    "\n",
    "reader = List_classifier(lista,RandomClassifier())\n",
    "reader.classify_list()\n",
    "\n",
    "reader = List_classifier(lista,RemoveIndicesClassifier(revome_indices=[0,1,4]))\n",
    "reader.classify_list()"
   ]
  },
  {
   "cell_type": "markdown",
   "id": "3a4b4aa0",
   "metadata": {},
   "source": [
    "And this is by far the best usage of classes for the strategy pattern. We are taking advantage of the fact that a class is contains both information (parameters, data) and methods."
   ]
  },
  {
   "cell_type": "markdown",
   "id": "7ce6f4d7",
   "metadata": {},
   "source": [
    "### I. Problem 2 - What if we want to reduce dependency in the imports?\n",
    "This would be a problem presented in cases where we have several scripts containing different functionalities (encoded in classes), and we want to avoid the inconvenience of having to import every single time these classes elsewhere.\n",
    "\n",
    "To get this, we would need **Protocols** (Python 3.8+)"
   ]
  },
  {
   "cell_type": "code",
   "execution_count": 39,
   "id": "e76612f4",
   "metadata": {},
   "outputs": [],
   "source": [
    "from typing import Protocol\n",
    "from dataclasses import dataclass, field"
   ]
  },
  {
   "cell_type": "markdown",
   "id": "c1074fa4",
   "metadata": {},
   "source": [
    "So, let's get the same classes as before describing different strategies, but with protocols"
   ]
  },
  {
   "cell_type": "code",
   "execution_count": 40,
   "id": "95e19e61",
   "metadata": {},
   "outputs": [],
   "source": [
    "#We create the abstract class for the classification method\n",
    "class I_ListClassifier(Protocol):\n",
    "    def classify(self,lista:list):\n",
    "        ...\n",
    "#The 3 dots are a common way of ending protocol creations\n",
    "\n",
    "#We encapsulate an specific behaviour (algorithm or concrete behaviour) in its own class\n",
    "class RandomClassifier:\n",
    "    def classify(self,lista:list) -> list:\n",
    "        lista2 = lista.copy()\n",
    "        random.shuffle(lista2)\n",
    "        return lista2\n",
    "\n",
    "@dataclass\n",
    "class InitialNumberClassifier:\n",
    "    initial_index: int = 5 #Using the dataclass decorator we are avoinding to write the actual .__init__ method here\n",
    "    def classify(self,lista:list) -> list:\n",
    "        lista2 = lista[self.initial_index:].copy()\n",
    "        lista2.extend(lista[:self.initial_index])\n",
    "        return lista2\n",
    "\n",
    "@dataclass\n",
    "class RemoveIndicesClassifier:\n",
    "    revome_indices: list = field(default_factory=list)\n",
    "    def classify(self,lista:list) -> list:\n",
    "        lista2 = [el for i,el in enumerate(lista) if i not in self.revome_indices]\n",
    "        return lista2\n",
    "\n",
    "#We create the client that uses the classification algorithm - And now decoupled from the specifics of each algorithm\n",
    "class List_classifier:\n",
    "    def __init__(self,lista:list,strategy: I_ListClassifier) -> None:\n",
    "        self.lista = lista\n",
    "        self.strat = strategy\n",
    "    \n",
    "    def classify_list(self):\n",
    "        print(f'The provided classifier is {self.strat.__class__.__name__}')\n",
    "        print(f'Given list {self.lista}')\n",
    "        sorted_list = self.strat.classify(lista = self.lista)\n",
    "        print(f'Classified list {sorted_list}')"
   ]
  },
  {
   "cell_type": "code",
   "execution_count": 41,
   "id": "ae6018af",
   "metadata": {},
   "outputs": [
    {
     "name": "stdout",
     "output_type": "stream",
     "text": [
      "The provided classifier is InitialNumberClassifier\n",
      "Given list [1, 4, 7, 0, 12, 5, 43]\n",
      "Classified list [7, 0, 12, 5, 43, 1, 4]\n",
      "The provided classifier is RandomClassifier\n",
      "Given list [1, 4, 7, 0, 12, 5, 43]\n",
      "Classified list [0, 12, 4, 5, 7, 1, 43]\n",
      "The provided classifier is RemoveIndicesClassifier\n",
      "Given list [1, 4, 7, 0, 12, 5, 43]\n",
      "Classified list [7, 0, 5, 43]\n"
     ]
    }
   ],
   "source": [
    "lista = [1,4,7,0,12,5,43]\n",
    "reader = List_classifier(lista,InitialNumberClassifier(initial_index=2))\n",
    "reader.classify_list()\n",
    "\n",
    "reader = List_classifier(lista,RandomClassifier())\n",
    "reader.classify_list()\n",
    "\n",
    "reader = List_classifier(lista,RemoveIndicesClassifier(revome_indices=[0,1,4]))\n",
    "reader.classify_list()"
   ]
  },
  {
   "cell_type": "markdown",
   "id": "9d1391be",
   "metadata": {},
   "source": [
    "Obviously, using a notebook this is completly non-relevant. We can better see the advantage of using protocols when doing scripting for a certain application (WhatEELS much? hehehe)\n",
    "Also, a second added advantaga is that in some cases we can define protocols separately in different parts of the scripts for different functionalities (depending on which operation is carried out in said parts of the scripts). This avoids the creation of very convoluted ABS classes, etc."
   ]
  },
  {
   "cell_type": "markdown",
   "id": "361d9e65",
   "metadata": {},
   "source": [
    "Protocols avoid the inheritance mechanism. In a way, we are defining interfaces (if this is the actual accurate term or not, is beyond me at this point)\n",
    "\n",
    "### I. Problem 2.1 - Avoid signature problems with protocols -> dunder \\_\\_call\\_\\_ methods\n",
    "The main problem generated by protocols is that they do not create actual signatures of the expected methods. So, it is easy to have later errors in the Client side of things (naming the expected functions)\n",
    "\n",
    "One possible solution for this is to use alwas _*\\_\\_call\\_\\_*_, as the actual names would be encoded in the class name. "
   ]
  },
  {
   "cell_type": "code",
   "execution_count": 42,
   "id": "42602860",
   "metadata": {},
   "outputs": [],
   "source": [
    "#We create the abstract class for the classification method\n",
    "class I_ListClassifier(Protocol):\n",
    "    def __call__(self,lista:list):\n",
    "        ...\n",
    "#The 3 dots are a common way of ending protocol creations\n",
    "\n",
    "#We encapsulate an specific behaviour (algorithm or concrete behaviour) in its own class\n",
    "class RandomClassifier:\n",
    "    def __call__(self,lista:list) -> list:\n",
    "        lista2 = lista.copy()\n",
    "        random.shuffle(lista2)\n",
    "        return lista2\n",
    "\n",
    "@dataclass\n",
    "class InitialNumberClassifier:\n",
    "    initial_index: int = 5 #Using the dataclass decorator we are avoinding to write the actual .__init__ method here\n",
    "    def __call__(self,lista:list) -> list:\n",
    "        lista2 = lista[self.initial_index:].copy()\n",
    "        lista2.extend(lista[:self.initial_index])\n",
    "        return lista2\n",
    "\n",
    "@dataclass\n",
    "class RemoveIndicesClassifier:\n",
    "    revome_indices: list = field(default_factory=list)\n",
    "    def __call__(self,lista:list) -> list:\n",
    "        lista2 = [el for i,el in enumerate(lista) if i not in self.revome_indices]\n",
    "        return lista2\n",
    "\n",
    "#We create the client that uses the classification algorithm - And now decoupled from the specifics of each algorithm\n",
    "class List_classifier:\n",
    "    def __init__(self,lista:list,strategy: I_ListClassifier) -> None:\n",
    "        self.lista = lista\n",
    "        self.strat = strategy\n",
    "    \n",
    "    def classify_list(self):\n",
    "        print(f'The provided classifier is {self.strat.__class__.__name__}')\n",
    "        print(f'Given list {self.lista}')\n",
    "        sorted_list = self.strat(lista = self.lista)\n",
    "        print(f'Classified list {sorted_list}')"
   ]
  },
  {
   "cell_type": "code",
   "execution_count": 43,
   "id": "e2c6dea8",
   "metadata": {},
   "outputs": [
    {
     "name": "stdout",
     "output_type": "stream",
     "text": [
      "The provided classifier is InitialNumberClassifier\n",
      "Given list [1, 4, 7, 0, 12, 5, 43]\n",
      "Classified list [7, 0, 12, 5, 43, 1, 4]\n",
      "The provided classifier is RandomClassifier\n",
      "Given list [1, 4, 7, 0, 12, 5, 43]\n",
      "Classified list [7, 4, 0, 12, 43, 1, 5]\n",
      "The provided classifier is RemoveIndicesClassifier\n",
      "Given list [1, 4, 7, 0, 12, 5, 43]\n",
      "Classified list [7, 0, 5, 43]\n"
     ]
    }
   ],
   "source": [
    "lista = [1,4,7,0,12,5,43]\n",
    "reader = List_classifier(lista,InitialNumberClassifier(initial_index=2))\n",
    "reader.classify_list()\n",
    "\n",
    "reader = List_classifier(lista,RandomClassifier())\n",
    "reader.classify_list()\n",
    "\n",
    "reader = List_classifier(lista,RemoveIndicesClassifier(revome_indices=[0,1,4]))\n",
    "reader.classify_list()"
   ]
  },
  {
   "cell_type": "markdown",
   "id": "3e1d8eb9",
   "metadata": {},
   "source": [
    "## I.2 - part 2 Using Funtional programming - _*but better now*_\n",
    "\n",
    "So let's recover the ability of using a 'more functional programming approach' to solve the problem of implementing the strategy pattern in Python, and see what a better version of the already discused solutiion would look like."
   ]
  },
  {
   "cell_type": "code",
   "execution_count": 1,
   "id": "cc29bdd6",
   "metadata": {},
   "outputs": [],
   "source": [
    "from typing import List, Callable\n",
    "from dataclasses import dataclass, field\n",
    "import random"
   ]
  },
  {
   "cell_type": "markdown",
   "id": "13a3d3bb",
   "metadata": {},
   "source": [
    "We are now going to define Type aliases, to serve the same functions previously discussed with the protocols"
   ]
  },
  {
   "cell_type": "code",
   "execution_count": 2,
   "id": "e07cf00f",
   "metadata": {},
   "outputs": [],
   "source": [
    "I_ListClassifier = Callable[[list],list]"
   ]
  },
  {
   "cell_type": "markdown",
   "id": "ab26cb12",
   "metadata": {},
   "source": [
    "And now, the Callable can be anything like a _*function*_, or a _*class*_ with a _*\\_\\_call\\_\\_*_ method ..."
   ]
  },
  {
   "cell_type": "code",
   "execution_count": 4,
   "id": "aa3b0ec0",
   "metadata": {},
   "outputs": [],
   "source": [
    "def reversedClassifier_function(lista : list) -> list:\n",
    "    lista2 = lista.copy()\n",
    "    lista2.reverse()\n",
    "    return lista2\n",
    "\n",
    "def blackHoleClassifier_function(lista : list) -> list:\n",
    "    return []\n",
    "\n",
    "def randomClassifier_function(lista : list) -> list:\n",
    "    lista2 = lista.copy()\n",
    "    random.shuffle(lista2)\n",
    "    return lista2\n",
    "\n",
    "def sortingClassifier_function(lista:list) -> list:\n",
    "    lista2 = lista.copy()\n",
    "    lista2.sort()\n",
    "    return lista2\n",
    "\n",
    "\n",
    "#We also have to modify the client to accept functions\n",
    "\n",
    "class List_reader_functional:\n",
    "    def __init__(self,lista:list, strategy:I_ListClassifier) -> None:\n",
    "        self.lista = lista\n",
    "        self.strategy = strategy\n",
    "    \n",
    "    def classify_list(self):\n",
    "        print(f'The provided classifier is {self.strategy.__name__}')\n",
    "        print(f'Given list {self.lista}')\n",
    "        sorted_list = self.strategy(self.lista)\n",
    "        print(f'Classified list {sorted_list}')"
   ]
  },
  {
   "cell_type": "code",
   "execution_count": 6,
   "id": "518ebc5b",
   "metadata": {},
   "outputs": [
    {
     "name": "stdout",
     "output_type": "stream",
     "text": [
      "The provided classifier is randomClassifier_function\n",
      "Given list [1, 4, 7, 0, 12, 5, 43]\n",
      "Classified list [1, 0, 12, 43, 7, 5, 4]\n",
      "The provided classifier is blackHoleClassifier_function\n",
      "Given list [1, 4, 7, 0, 12, 5, 43]\n",
      "Classified list []\n",
      "The provided classifier is reversedClassifier_function\n",
      "Given list [1, 4, 7, 0, 12, 5, 43]\n",
      "Classified list [43, 5, 12, 0, 7, 4, 1]\n",
      "The provided classifier is sortingClassifier_function\n",
      "Given list [1, 4, 7, 0, 12, 5, 43]\n",
      "Classified list [0, 1, 4, 5, 7, 12, 43]\n"
     ]
    }
   ],
   "source": [
    "lista = [1,4,7,0,12,5,43]\n",
    "reader = List_reader_functional(lista,strategy=randomClassifier_function)\n",
    "reader.classify_list()\n",
    "reader = List_reader_functional(lista,strategy=blackHoleClassifier_function)\n",
    "reader.classify_list()\n",
    "reader = List_reader_functional(lista,strategy=reversedClassifier_function)\n",
    "reader.classify_list()\n",
    "reader = List_reader_functional(lista,strategy=sortingClassifier_function)\n",
    "reader.classify_list()\n"
   ]
  },
  {
   "cell_type": "markdown",
   "id": "806f452f",
   "metadata": {},
   "source": [
    "This is in part 'extra awesome', because a class with a \\_\\_call\\_\\_ method is also a Callable. As such, we can still use such an existing class as the strategy in this case"
   ]
  },
  {
   "cell_type": "code",
   "execution_count": 17,
   "id": "1900ef9a",
   "metadata": {},
   "outputs": [],
   "source": [
    "@dataclass\n",
    "class RemoveIndicesClassifier:\n",
    "    revome_indices: list = field(default_factory=list)\n",
    "    def __post_init__(self):\n",
    "        self.__name__ = 'Remove_indicices_Classifier'\n",
    "    def __call__(self,lista:list) -> list:\n",
    "        lista2 = [el for i,el in enumerate(lista) if i not in self.revome_indices]\n",
    "        return lista2"
   ]
  },
  {
   "cell_type": "code",
   "execution_count": 18,
   "id": "ce9aeb02",
   "metadata": {},
   "outputs": [
    {
     "name": "stdout",
     "output_type": "stream",
     "text": [
      "The provided classifier is Remove_indicices_Classifier\n",
      "Given list [1, 4, 7, 0, 12, 5, 43]\n",
      "Classified list [7, 0, 5, 43]\n"
     ]
    }
   ],
   "source": [
    "lista = [1,4,7,0,12,5,43]\n",
    "reader = List_reader_functional(lista,strategy=RemoveIndicesClassifier(revome_indices=[0,1,4]))\n",
    "reader.classify_list()"
   ]
  },
  {
   "cell_type": "markdown",
   "id": "c13ea59a",
   "metadata": {},
   "source": [
    "Notice that I was forced to add the \\_\\_post\\_init\\_\\_ method to be able to get the \\_\\_name\\_\\_ attribute. Other than that, everithing was just fine.\n",
    "This works because the Callable typing is identifying the \\_\\_call\\_\\_ method in the class, and assumes that the actual instantiation of the class creates a Callable (again, it has a \\_\\_call\\_\\_ method, which seems to be the defining key feature of a Callable type for typing)"
   ]
  },
  {
   "cell_type": "markdown",
   "id": "1feff230",
   "metadata": {},
   "source": [
    "### Problem 2. part2 - Parameters - What if we want to get some parameters into de functions (as already happened before)?\n",
    "\n",
    "**Callable** would not allow this. The general structure of Callable is rigid and well defined in this case, and so having different types of parameters for different strategies would be impossible. But ...\n",
    "### _Solution_\n",
    "## I.3 Using Closures for the functional approach - Including specific parameters\n",
    "What we can do now is to define structures called closures to walk our way around this issues.\n",
    "Let's see how"
   ]
  },
  {
   "cell_type": "code",
   "execution_count": 19,
   "id": "9e302162",
   "metadata": {},
   "outputs": [
    {
     "name": "stdout",
     "output_type": "stream",
     "text": [
      "The provided classifier is randomClassifier_function\n",
      "Given list [1, 4, 7, 0, 12, 5, 43]\n",
      "Classified list [43, 7, 1, 0, 12, 5, 4]\n"
     ]
    }
   ],
   "source": [
    "from typing import Optional,Callable\n",
    "import random\n",
    "\n",
    "I_ListClassifier = Callable[[list],list]\n",
    "#This is similar to the creation of decorators - Closures would be wrapped functions inside functions\n",
    "\n",
    "\n",
    "def random_strategy_creator(seed:Optional[int]) -> I_ListClassifier:\n",
    "    \"\"\"This is going to be the 'factory' creating the strategy, \n",
    "    which allows for the optional argument of seed for the random\n",
    "    ordering. At the same time, notice that it will return the alias\n",
    "    expected -> the Callable for any strategy used\"\"\"\n",
    "    def randomClassifier_function(lista : list) -> list:\n",
    "        lista2 = lista.copy()\n",
    "        random.seed(seed)\n",
    "        random.shuffle(lista2)\n",
    "        return lista2\n",
    "\n",
    "    return randomClassifier_function\n",
    "\n",
    "#The Client is still the same\n",
    "class List_reader_functional:\n",
    "    def __init__(self,lista:list, strategy:I_ListClassifier) -> None:\n",
    "        self.lista = lista\n",
    "        self.strategy = strategy\n",
    "    \n",
    "    def classify_list(self):\n",
    "        print(f'The provided classifier is {self.strategy.__name__}')\n",
    "        print(f'Given list {self.lista}')\n",
    "        sorted_list = self.strategy(self.lista)\n",
    "        print(f'Classified list {sorted_list}')\n",
    "\n",
    "#And the usage is also the same, but calling now the creaor factory\n",
    "\n",
    "\n",
    "lista = [1,4,7,0,12,5,43]\n",
    "reader = List_reader_functional(lista,strategy=random_strategy_creator(seed=2))\n",
    "reader.classify_list()"
   ]
  },
  {
   "cell_type": "code",
   "execution_count": 20,
   "id": "70f60bb4",
   "metadata": {},
   "outputs": [
    {
     "name": "stdout",
     "output_type": "stream",
     "text": [
      "The provided classifier is randomClassifier_function\n",
      "Given list [1, 4, 7, 0, 12, 5, 43]\n",
      "Classified list [4, 7, 0, 43, 12, 5, 1]\n"
     ]
    }
   ],
   "source": [
    "lista = [1,4,7,0,12,5,43]\n",
    "reader = List_reader_functional(lista,strategy=random_strategy_creator(seed=2))\n",
    "reader.classify_list()"
   ]
  },
  {
   "cell_type": "code",
   "execution_count": null,
   "id": "d0bbeab0",
   "metadata": {},
   "outputs": [],
   "source": []
  }
 ],
 "metadata": {
  "kernelspec": {
   "display_name": "Python 3 (ipykernel)",
   "language": "python",
   "name": "python3"
  },
  "language_info": {
   "codemirror_mode": {
    "name": "ipython",
    "version": 3
   },
   "file_extension": ".py",
   "mimetype": "text/x-python",
   "name": "python",
   "nbconvert_exporter": "python",
   "pygments_lexer": "ipython3",
   "version": "3.9.7"
  }
 },
 "nbformat": 4,
 "nbformat_minor": 5
}
